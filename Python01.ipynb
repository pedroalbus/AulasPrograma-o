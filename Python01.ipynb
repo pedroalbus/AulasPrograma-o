{
  "nbformat": 4,
  "nbformat_minor": 0,
  "metadata": {
    "colab": {
      "provenance": [],
      "authorship_tag": "ABX9TyMxUWoWVV0cVDtqF9ge4dcv",
      "include_colab_link": true
    },
    "kernelspec": {
      "name": "python3",
      "display_name": "Python 3"
    },
    "language_info": {
      "name": "python"
    }
  },
  "cells": [
    {
      "cell_type": "markdown",
      "metadata": {
        "id": "view-in-github",
        "colab_type": "text"
      },
      "source": [
        "<a href=\"https://colab.research.google.com/github/pedroalbus/AulasPrograma-o/blob/main/Python01.ipynb\" target=\"_parent\"><img src=\"https://colab.research.google.com/assets/colab-badge.svg\" alt=\"Open In Colab\"/></a>"
      ]
    },
    {
      "cell_type": "markdown",
      "source": [],
      "metadata": {
        "id": "23e9HZeovrKb"
      }
    },
    {
      "cell_type": "code",
      "source": [
        "print(\"eu vou programar geral\")\n"
      ],
      "metadata": {
        "colab": {
          "base_uri": "https://localhost:8080/"
        },
        "id": "e9HV3c8UvF_i",
        "outputId": "da02f328-e4c1-4c1c-e984-d361b0e1165b"
      },
      "execution_count": 4,
      "outputs": [
        {
          "output_type": "stream",
          "name": "stdout",
          "text": [
            "eu vou programar geral\n"
          ]
        }
      ]
    },
    {
      "cell_type": "code",
      "source": [
        "#Variaveis\n",
        "nome = \"Pablo ramon\"\n",
        "print(nome)"
      ],
      "metadata": {
        "colab": {
          "base_uri": "https://localhost:8080/"
        },
        "id": "wZAg-OVGwduH",
        "outputId": "93195f95-c997-4fd6-ded2-878aff322773"
      },
      "execution_count": 6,
      "outputs": [
        {
          "output_type": "stream",
          "name": "stdout",
          "text": [
            "Pablo ramon\n"
          ]
        }
      ]
    },
    {
      "cell_type": "code",
      "source": [
        "#Operações com variaveis \n",
        "a = 20\n",
        "b = 35\n",
        "\n",
        "soma = (a + b)\n",
        "subtracao = (a + b)\n",
        "divisao = (a / b)\n",
        "multiplicacao = (a * b)\n",
        "\n",
        "print(soma)\n",
        "print(subtracao)\n",
        "print(divisao)\n",
        "print(multiplicacao)\n",
        "\n"
      ],
      "metadata": {
        "colab": {
          "base_uri": "https://localhost:8080/"
        },
        "id": "gCLaP9mKw_DD",
        "outputId": "11b85c34-1d2a-49d5-fb9f-d31d857ff540"
      },
      "execution_count": 9,
      "outputs": [
        {
          "output_type": "stream",
          "name": "stdout",
          "text": [
            "55\n",
            "55\n",
            "0.5714285714285714\n",
            "700\n"
          ]
        }
      ]
    },
    {
      "cell_type": "markdown",
      "source": [
        "1. Pega o numero e de uma variavel, devolve o dobro\n",
        "\n",
        "2. le 3"
      ],
      "metadata": {
        "id": "SeRb59RQyO7G"
      }
    },
    {
      "cell_type": "code",
      "source": [
        "#retorna dobro\n",
        "numero = 12\n",
        "dobro = (numero * 2)\n",
        "print(dobro)\n"
      ],
      "metadata": {
        "colab": {
          "base_uri": "https://localhost:8080/"
        },
        "id": "4dRkMVqAywUB",
        "outputId": "0c66b33c-1e69-4ee1-9273-1996426160ee"
      },
      "execution_count": 13,
      "outputs": [
        {
          "output_type": "stream",
          "name": "stdout",
          "text": [
            "24\n"
          ]
        }
      ]
    },
    {
      "cell_type": "code",
      "source": [
        "#media aritimetica \n",
        "\n",
        "nota1 = 8\n",
        "nota2 = 4\n",
        "nota3 = 7\n",
        "\n",
        "media = (nota1 + nota2 + nota3) / 3\n",
        "\n",
        "print(media)"
      ],
      "metadata": {
        "colab": {
          "base_uri": "https://localhost:8080/"
        },
        "id": "nJhEpGAbzLfU",
        "outputId": "c6840d45-e0d6-43ea-c5a4-7deff5760dff"
      },
      "execution_count": 15,
      "outputs": [
        {
          "output_type": "stream",
          "name": "stdout",
          "text": [
            "6.333333333333333\n"
          ]
        }
      ]
    },
    {
      "cell_type": "code",
      "source": [
        "# calcula idade \n",
        "\n",
        "anoDeNasc = 1992\n",
        "anoAtual = 2023\n",
        "idade = anoAtual - anoDeNasc\n",
        "\n",
        "print(idade)"
      ],
      "metadata": {
        "colab": {
          "base_uri": "https://localhost:8080/"
        },
        "id": "HH1lF0jmzmor",
        "outputId": "8a02ded7-7ed5-4036-cbe9-4ebf9dff834f"
      },
      "execution_count": 17,
      "outputs": [
        {
          "output_type": "stream",
          "name": "stdout",
          "text": [
            "31\n"
          ]
        }
      ]
    },
    {
      "cell_type": "code",
      "source": [
        "#trbalho com input\n",
        "nome = input(\"digite seu nome\")\n",
        "print(\"Olá \" + nome)"
      ],
      "metadata": {
        "colab": {
          "base_uri": "https://localhost:8080/"
        },
        "id": "GVghFXy12QEK",
        "outputId": "806833dc-6048-407b-a600-62f08886ad66"
      },
      "execution_count": 26,
      "outputs": [
        {
          "output_type": "stream",
          "name": "stdout",
          "text": [
            "digite seu nomepablo\n",
            "Olá pablo\n"
          ]
        }
      ]
    },
    {
      "cell_type": "code",
      "source": [
        "#numero\n",
        "#PARSE\n",
        "numero = int(input(\"Digite um Número\"))\n",
        "print(numero * 3)\n"
      ],
      "metadata": {
        "colab": {
          "base_uri": "https://localhost:8080/"
        },
        "id": "c1rLMoHY4rVQ",
        "outputId": "67ed56b6-6e3c-4fef-b956-412eb814bcbc"
      },
      "execution_count": 31,
      "outputs": [
        {
          "output_type": "stream",
          "name": "stdout",
          "text": [
            "Digite um Número-2\n",
            "-6\n"
          ]
        }
      ]
    }
  ]
}