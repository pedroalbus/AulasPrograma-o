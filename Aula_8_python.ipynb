{
  "nbformat": 4,
  "nbformat_minor": 0,
  "metadata": {
    "colab": {
      "provenance": [],
      "toc_visible": true,
      "authorship_tag": "ABX9TyNZzMrovjCulsImsUkUYOBr",
      "include_colab_link": true
    },
    "kernelspec": {
      "name": "python3",
      "display_name": "Python 3"
    },
    "language_info": {
      "name": "python"
    }
  },
  "cells": [
    {
      "cell_type": "markdown",
      "metadata": {
        "id": "view-in-github",
        "colab_type": "text"
      },
      "source": [
        "<a href=\"https://colab.research.google.com/github/pedroalbus/AulasPrograma-o/blob/main/Aula_8_python.ipynb\" target=\"_parent\"><img src=\"https://colab.research.google.com/assets/colab-badge.svg\" alt=\"Open In Colab\"/></a>"
      ]
    },
    {
      "cell_type": "code",
      "execution_count": null,
      "metadata": {
        "id": "g2ORU7du_5ff"
      },
      "outputs": [],
      "source": [
        "#create\n",
        "\n",
        "lutas = {}"
      ]
    },
    {
      "cell_type": "code",
      "source": [
        "#create\n",
        "\n",
        "luchadores = [\n",
        "    {\n",
        "        \"nome\":'Israel Adesanya',\n",
        "        \"categoria\" : 'Meio médio',\n",
        "        \"envergadura\" : 2\n",
        "    }\n",
        "    {\n",
        "        \"nome\" : 'luana Pinheiro'\n",
        "        \"categoria\" : \"palha\"\n",
        "        \"envergadura\" : 1.6\n",
        "    }\n",
        "]"
      ],
      "metadata": {
        "id": "QH8SbhHEGkRk"
      },
      "execution_count": null,
      "outputs": []
    },
    {
      "cell_type": "code",
      "source": [
        "#criar\n",
        "\n",
        "contatos ={'Evilasio' : 'evi@exemplo.com'}\n",
        "contatos"
      ],
      "metadata": {
        "colab": {
          "base_uri": "https://localhost:8080/"
        },
        "id": "yJW0qdDIIdUb",
        "outputId": "ff8d118c-3631-4b88-cc02-53eca70242af"
      },
      "execution_count": 17,
      "outputs": [
        {
          "output_type": "execute_result",
          "data": {
            "text/plain": [
              "{'Evilasio': 'evi@exemplo.com'}"
            ]
          },
          "metadata": {},
          "execution_count": 17
        }
      ]
    },
    {
      "cell_type": "code",
      "source": [
        "contatcs = {'zé' : 'ze@mailzemplo.com',\n",
        "           'gardenia' : 'gardenia@examplo.com',\n",
        "           'Aloisio' : 'aloisio@exml.com'}\n",
        "          \n",
        "\n",
        "contatos.update(contatcs)\n",
        "contatos"
      ],
      "metadata": {
        "colab": {
          "base_uri": "https://localhost:8080/"
        },
        "id": "lmJ4az03I6mZ",
        "outputId": "f12003ce-9128-4f93-d056-c2a2df7a798e"
      },
      "execution_count": 19,
      "outputs": [
        {
          "output_type": "execute_result",
          "data": {
            "text/plain": [
              "{'Evilasio': 'evi@exemplo.com',\n",
              " 'zé': 'ze@mailzemplo.com',\n",
              " 'gardenia': 'gardenia@examplo.com',\n",
              " 'Aloisio': 'aloisio@exml.com'}"
            ]
          },
          "metadata": {},
          "execution_count": 19
        }
      ]
    },
    {
      "cell_type": "code",
      "source": [
        "contatos.items()\n"
      ],
      "metadata": {
        "id": "DpqTEj5qKiUJ"
      },
      "execution_count": null,
      "outputs": []
    },
    {
      "cell_type": "code",
      "source": [
        "contatos.values()"
      ],
      "metadata": {
        "colab": {
          "base_uri": "https://localhost:8080/"
        },
        "id": "9KcsTikWMjxY",
        "outputId": "8069c511-0110-4d3e-f991-5ec70ed0f81f"
      },
      "execution_count": 27,
      "outputs": [
        {
          "output_type": "execute_result",
          "data": {
            "text/plain": [
              "dict_values(['evi@exemplo.com', 'ze@mailzemplo.com', 'gardenia@examplo.com', 'aloisio@exml.com'])"
            ]
          },
          "metadata": {},
          "execution_count": 27
        }
      ]
    },
    {
      "cell_type": "code",
      "source": [
        "nomes = list(contatos.keys())"
      ],
      "metadata": {
        "id": "Yxg7AS5cQGd_"
      },
      "execution_count": 28,
      "outputs": []
    },
    {
      "cell_type": "code",
      "source": [
        "curso = {'Alice' : 8.5, 'Tiago': 7.0,\n",
        "         'chico': 6.5, 'nubia' : 10}\n",
        "\n",
        "max(curso, key = curso.get)"
      ],
      "metadata": {
        "colab": {
          "base_uri": "https://localhost:8080/",
          "height": 35
        },
        "id": "DHugY17wQ3dH",
        "outputId": "42e39077-9738-4c2f-dea6-735c0f37d7e9"
      },
      "execution_count": 30,
      "outputs": [
        {
          "output_type": "execute_result",
          "data": {
            "text/plain": [
              "'nubia'"
            ],
            "application/vnd.google.colaboratory.intrinsic+json": {
              "type": "string"
            }
          },
          "metadata": {},
          "execution_count": 30
        }
      ]
    },
    {
      "cell_type": "code",
      "source": [
        "min(curso, key = curso.get)\n"
      ],
      "metadata": {
        "colab": {
          "base_uri": "https://localhost:8080/",
          "height": 35
        },
        "id": "nJybqhLHRdK8",
        "outputId": "996a715c-cfce-4d2e-e99b-c18fe76c0699"
      },
      "execution_count": 31,
      "outputs": [
        {
          "output_type": "execute_result",
          "data": {
            "text/plain": [
              "'chico'"
            ],
            "application/vnd.google.colaboratory.intrinsic+json": {
              "type": "string"
            }
          },
          "metadata": {},
          "execution_count": 31
        }
      ]
    },
    {
      "cell_type": "code",
      "source": [
        "sorted(curso, key = curso.get)"
      ],
      "metadata": {
        "colab": {
          "base_uri": "https://localhost:8080/"
        },
        "id": "dvt8ysEVS4JJ",
        "outputId": "6b279429-5bac-407a-c0d6-78bb61fcd837"
      },
      "execution_count": 33,
      "outputs": [
        {
          "output_type": "execute_result",
          "data": {
            "text/plain": [
              "['chico', 'Tiago', 'Alice', 'nubia']"
            ]
          },
          "metadata": {},
          "execution_count": 33
        }
      ]
    },
    {
      "cell_type": "code",
      "source": [
        "sorted(curso, key = curso.get, reverse = True)"
      ],
      "metadata": {
        "colab": {
          "base_uri": "https://localhost:8080/"
        },
        "id": "5g7RscqhTfQd",
        "outputId": "eedae74e-4c00-46a3-8daa-107e0667ef81"
      },
      "execution_count": 34,
      "outputs": [
        {
          "output_type": "execute_result",
          "data": {
            "text/plain": [
              "['nubia', 'Alice', 'Tiago', 'chico']"
            ]
          },
          "metadata": {},
          "execution_count": 34
        }
      ]
    },
    {
      "cell_type": "code",
      "source": [
        "corrida100m = {'Zé' : 10, 'marco':\n",
        "               9.9,'marta' : 9.98,'Lourdes' : 10.2\n",
        "               }\n"
      ],
      "metadata": {
        "id": "lMYvAvwXUGTt"
      },
      "execution_count": 35,
      "outputs": []
    },
    {
      "cell_type": "code",
      "source": [
        "min(corrida100m, key = corrida100m.get)"
      ],
      "metadata": {
        "colab": {
          "base_uri": "https://localhost:8080/",
          "height": 35
        },
        "id": "kbeLr0nXU10i",
        "outputId": "8b061952-46da-457b-e690-1bb6c856e55d"
      },
      "execution_count": 36,
      "outputs": [
        {
          "output_type": "execute_result",
          "data": {
            "text/plain": [
              "'marco'"
            ],
            "application/vnd.google.colaboratory.intrinsic+json": {
              "type": "string"
            }
          },
          "metadata": {},
          "execution_count": 36
        }
      ]
    },
    {
      "cell_type": "code",
      "source": [
        "max(corrida100m, key = corrida100m.get)"
      ],
      "metadata": {
        "colab": {
          "base_uri": "https://localhost:8080/",
          "height": 35
        },
        "id": "KrVXmS-_VDn5",
        "outputId": "93b9b254-8cc2-46bd-c2f1-415fd75dd79f"
      },
      "execution_count": 37,
      "outputs": [
        {
          "output_type": "execute_result",
          "data": {
            "text/plain": [
              "'Lourdes'"
            ],
            "application/vnd.google.colaboratory.intrinsic+json": {
              "type": "string"
            }
          },
          "metadata": {},
          "execution_count": 37
        }
      ]
    },
    {
      "cell_type": "code",
      "source": [
        "sorted(corrida100m, key = corrida100m.get, )"
      ],
      "metadata": {
        "colab": {
          "base_uri": "https://localhost:8080/"
        },
        "id": "MkpfTv49VNPS",
        "outputId": "48d10aaa-5a29-48f9-aeeb-616af0f80644"
      },
      "execution_count": 39,
      "outputs": [
        {
          "output_type": "execute_result",
          "data": {
            "text/plain": [
              "['marco', 'marta', 'Zé', 'Lourdes']"
            ]
          },
          "metadata": {},
          "execution_count": 39
        }
      ]
    }
  ]
}