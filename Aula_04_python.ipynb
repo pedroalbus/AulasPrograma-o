{
  "nbformat": 4,
  "nbformat_minor": 0,
  "metadata": {
    "colab": {
      "provenance": [],
      "authorship_tag": "ABX9TyOWIwemv98obGqZ9ksE3RF0",
      "include_colab_link": true
    },
    "kernelspec": {
      "name": "python3",
      "display_name": "Python 3"
    },
    "language_info": {
      "name": "python"
    }
  },
  "cells": [
    {
      "cell_type": "markdown",
      "metadata": {
        "id": "view-in-github",
        "colab_type": "text"
      },
      "source": [
        "<a href=\"https://colab.research.google.com/github/pedroalbus/AulasPrograma-o/blob/main/Aula_04_python.ipynb\" target=\"_parent\"><img src=\"https://colab.research.google.com/assets/colab-badge.svg\" alt=\"Open In Colab\"/></a>"
      ]
    },
    {
      "cell_type": "code",
      "execution_count": 1,
      "metadata": {
        "colab": {
          "base_uri": "https://localhost:8080/"
        },
        "id": "RXCPPgXGk1sH",
        "outputId": "d827ea3a-5b07-4215-f102-96745c9d6276"
      },
      "outputs": [
        {
          "output_type": "stream",
          "name": "stdout",
          "text": [
            "True\n",
            "True\n",
            "False\n",
            "True\n",
            "False\n",
            "True\n"
          ]
        }
      ],
      "source": [
        "#tipos booleanos \n",
        "print(100 == (50 + 50 ))\n",
        "print(100 >= (50 + 50 ))\n",
        "print(100 > (50 + 50 ))\n",
        "print(100 <= (50 + 50 ))\n",
        "print(100 != (50 + 50 ))\n",
        "print(100 != 99)"
      ]
    },
    {
      "cell_type": "code",
      "source": [
        "#Se a idade for maior ou que 16, exiba: Pode tirar habilitação\n",
        "idade = int(input('digite a idade'))\n",
        "if(idade >= 16 ):\n",
        "  print('pode tirar habilitação')\n",
        "else:\n",
        "  print('Ainda não, Filé')"
      ],
      "metadata": {
        "colab": {
          "base_uri": "https://localhost:8080/"
        },
        "id": "L87WBzu7pYuA",
        "outputId": "6e552462-cb7d-4fa7-cc6a-90255bbfad48"
      },
      "execution_count": 2,
      "outputs": [
        {
          "output_type": "stream",
          "name": "stdout",
          "text": [
            "digite a idade12\n",
            "Ainda não, Filé\n"
          ]
        }
      ]
    },
    {
      "cell_type": "code",
      "source": [
        "#se for do sexo 'F', e tiver 55 anos ou mais, pode se aposentar\n",
        "#se for do sexo 'M', só se aposenta com 60 anos\n",
        "sexo = input('insira o sexo, m (masculino) ou f (feminino)')\n",
        "idade = int(input('insira sua idade'))\n",
        "\n",
        "if (idade >= 55  and sexo == 'F'):\n",
        "  print('Pode se aposentar')\n",
        "elif(idade >= 60  and sexo == 'M'):\n",
        "  print('Pode se aposentar')\n",
        "else:\n",
        "  print('Não pode se aposentar')\n"
      ],
      "metadata": {
        "id": "D04R5IYxqbaJ"
      },
      "execution_count": null,
      "outputs": []
    },
    {
      "cell_type": "code",
      "source": [
        "#Desenvolva um algoritmo que solicita tres numeros a, b e c e imprima na tela se a + b é menor do que c\n",
        "A = int(input('insira o numero A'))\n",
        "B = int(input('insira  o numero B'))\n",
        "C = int(input('insira o numero C'))\n",
        "\n",
        "if (A + B >= C):\n",
        "  print('A + B é maior que C')\n",
        "else :\n",
        "  print('A + B é menor que C')\n",
        "\n"
      ],
      "metadata": {
        "colab": {
          "base_uri": "https://localhost:8080/"
        },
        "id": "doEgbkTAucsg",
        "outputId": "a181dfe9-ded0-4c9b-c9bb-69a4a1588b2f"
      },
      "execution_count": 4,
      "outputs": [
        {
          "output_type": "stream",
          "name": "stdout",
          "text": [
            "insira o numero A1\n",
            "insira  o numero B2\n",
            "insira o numero C3\n",
            "A + B é maior que C ou igual\n"
          ]
        }
      ]
    },
    {
      "cell_type": "code",
      "source": [
        "num1 = int(input('numero 1 : '))\n",
        "num2 = int(input('numero 2 : '))\n",
        "\n",
        "if (num1 > num2):\n",
        "  print('numero 1 é maior')\n",
        "elif (num2 > num1):\n",
        "  print('numero 2 é maior')\n",
        "else:\n",
        "  print('os numeros são iguais')"
      ],
      "metadata": {
        "colab": {
          "base_uri": "https://localhost:8080/"
        },
        "id": "FL90w_IXxdwI",
        "outputId": "eb2c2732-6c36-49d2-87cc-ea08db884bba"
      },
      "execution_count": 6,
      "outputs": [
        {
          "output_type": "stream",
          "name": "stdout",
          "text": [
            "numero 1 : 2\n",
            "numero 2 : 2\n",
            "são iguais\n"
          ]
        }
      ]
    }
  ]
}