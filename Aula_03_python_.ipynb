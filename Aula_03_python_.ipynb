{
  "nbformat": 4,
  "nbformat_minor": 0,
  "metadata": {
    "colab": {
      "provenance": [],
      "authorship_tag": "ABX9TyOdx6T4SE7k84+M6eBSLMbg",
      "include_colab_link": true
    },
    "kernelspec": {
      "name": "python3",
      "display_name": "Python 3"
    },
    "language_info": {
      "name": "python"
    }
  },
  "cells": [
    {
      "cell_type": "markdown",
      "metadata": {
        "id": "view-in-github",
        "colab_type": "text"
      },
      "source": [
        "<a href=\"https://colab.research.google.com/github/pedroalbus/AulasPrograma-o/blob/main/Aula_03_python_.ipynb\" target=\"_parent\"><img src=\"https://colab.research.google.com/assets/colab-badge.svg\" alt=\"Open In Colab\"/></a>"
      ]
    },
    {
      "cell_type": "code",
      "execution_count": null,
      "metadata": {
        "colab": {
          "base_uri": "https://localhost:8080/"
        },
        "id": "UOGmKMCNhYjq",
        "outputId": "0d778990-48bc-4d70-d77b-61364c2728d7"
      },
      "outputs": [
        {
          "output_type": "stream",
          "name": "stdout",
          "text": [
            "132\n",
            "48\n",
            "3780\n",
            "2.142857142857143\n",
            "6\n"
          ]
        }
      ],
      "source": [
        "a = 90\n",
        "b= 42\n",
        "\n",
        "print(a+b)\n",
        "print(a-b)\n",
        "print(a*b)\n",
        "print(a/b)\n",
        "print(a%b)\n"
      ]
    },
    {
      "cell_type": "code",
      "source": [
        "nome = input('Digite seu nome')\n",
        "print(\"Olá, \" + nome)  "
      ],
      "metadata": {
        "colab": {
          "base_uri": "https://localhost:8080/"
        },
        "id": "ATlNXtmtmi8e",
        "outputId": "02408960-461c-4e11-db33-dc16bde33c71"
      },
      "execution_count": null,
      "outputs": [
        {
          "output_type": "stream",
          "name": "stdout",
          "text": [
            "Digite seu nomejeba\n",
            "Olá, jeba\n"
          ]
        }
      ]
    },
    {
      "cell_type": "code",
      "source": [
        "#Código para dizer a idade da pessoa\n",
        "anoNasc = int(input('Digite o ano de nascimento'))\n",
        "print('sua idade é ', 2023 - anoNasc)"
      ],
      "metadata": {
        "id": "3tw1-CpSnkRk"
      },
      "execution_count": null,
      "outputs": []
    },
    {
      "cell_type": "code",
      "source": [
        "#solicita a altura e o peso de alguem, e retorne o IMC\n",
        "\n",
        "peso = float(input('Digite o seu peso '))\n",
        "\n",
        "altura = float(input('Digite sua altura '))\n",
        "\n",
        "imc = peso/altura**2\n",
        "\n",
        "print('O seu IMC é = ' ,imc)\n",
        "\n"
      ],
      "metadata": {
        "colab": {
          "base_uri": "https://localhost:8080/"
        },
        "id": "TLNFSshWoeU2",
        "outputId": "046b59f6-ef12-4d9b-d918-bd00aca7c020"
      },
      "execution_count": null,
      "outputs": [
        {
          "output_type": "stream",
          "name": "stdout",
          "text": [
            "Digite o seu peso 66\n",
            "Digite sua altura 1.73\n",
            "O seu IMC é =  22.052190183434128\n"
          ]
        }
      ]
    },
    {
      "cell_type": "code",
      "source": [
        "#Verificar se um numero é par \n",
        "numero = int(input('Digite um numero '))\n",
        "\n",
        "if   (numero%2 == 0) :\n",
        "    print('O numero é par')\n",
        "else :\n",
        "    print('O numero é impar')     "
      ],
      "metadata": {
        "id": "SM1FR4eHuQUv"
      },
      "execution_count": null,
      "outputs": []
    },
    {
      "cell_type": "code",
      "source": [
        "#Em um campeonato de MMA, tem tres categorias por peso\n",
        "#Mosca até 60kg\n",
        "#medio até 80kg\n",
        "#meio pesado até 90kg\n",
        "\n",
        "peso = float(input('Digite o peso do atleta: '))\n",
        "\n",
        "if   (peso <=70):\n",
        "    print('Peso galo')\n",
        "elif (peso<=80):\n",
        "    print('Peso medio')\n",
        "else:\n",
        "    print('Meio Pesado')"
      ],
      "metadata": {
        "id": "_vRk4jD3yTKg"
      },
      "execution_count": null,
      "outputs": []
    },
    {
      "cell_type": "code",
      "source": [
        "#Verificador de IMC \n",
        "peso = float(input('Digite seu peso '))\n",
        "altura = float(input('Digite seu altura '))\n",
        "imc = peso/altura**2\n",
        "\n",
        "if (imc <18.5):\n",
        "   print('abaixo do peso normal')\n",
        "elif ( imc < 24.9):\n",
        "   print('peso normal')\n",
        "elif ( imc < 29.9):\n",
        "    print('excesso de peso')\n",
        "elif (imc < 34.9):\n",
        "    print('obesidade classe 1')\n",
        "elif (imc <39.9):\n",
        "    print('obesidade classe 2')\n",
        "else:\n",
        "    print('obesidade classe 3')\n",
        "print('o seu imc é : ', round(imc))"
      ],
      "metadata": {
        "id": "wkr7wsjzrtor",
        "colab": {
          "base_uri": "https://localhost:8080/"
        },
        "outputId": "edc522ab-6bf2-436f-9271-83a2f88347ac"
      },
      "execution_count": null,
      "outputs": [
        {
          "output_type": "stream",
          "name": "stdout",
          "text": [
            "Digite seu peso 67\n",
            "Digite seu altura 1.73\n",
            "peso normal\n",
            "o seu imc é :  22.386314277122523\n"
          ]
        }
      ]
    },
    {
      "cell_type": "code",
      "source": [],
      "metadata": {
        "id": "l0EqoRl12MnT"
      },
      "execution_count": null,
      "outputs": []
    }
  ]
}