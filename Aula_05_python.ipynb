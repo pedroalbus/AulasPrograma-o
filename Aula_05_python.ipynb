{
  "nbformat": 4,
  "nbformat_minor": 0,
  "metadata": {
    "colab": {
      "provenance": [],
      "authorship_tag": "ABX9TyPvo9UmgNe0WwqZRJN5Yn9q",
      "include_colab_link": true
    },
    "kernelspec": {
      "name": "python3",
      "display_name": "Python 3"
    },
    "language_info": {
      "name": "python"
    }
  },
  "cells": [
    {
      "cell_type": "markdown",
      "metadata": {
        "id": "view-in-github",
        "colab_type": "text"
      },
      "source": [
        "<a href=\"https://colab.research.google.com/github/pedroalbus/AulasPrograma-o/blob/main/Aula_05_python.ipynb\" target=\"_parent\"><img src=\"https://colab.research.google.com/assets/colab-badge.svg\" alt=\"Open In Colab\"/></a>"
      ]
    },
    {
      "cell_type": "code",
      "execution_count": null,
      "metadata": {
        "id": "JeuNd3GW69-I"
      },
      "outputs": [],
      "source": [
        "#linguagens fortemente tipadas \n",
        "#linguagens de tipagem dinamica"
      ]
    },
    {
      "cell_type": "code",
      "source": [
        "numeros = [25, 4, 3, 6, 9, 4 ]\n",
        "numeros ="
      ],
      "metadata": {
        "id": "mofyEeVc7K9E"
      },
      "execution_count": null,
      "outputs": []
    },
    {
      "cell_type": "code",
      "source": [
        "#tamanho de uma lista\n",
        "len(numeros)"
      ],
      "metadata": {
        "id": "Vnazg5i57e77"
      },
      "execution_count": null,
      "outputs": []
    },
    {
      "cell_type": "code",
      "source": [
        "#indices 25, 4, 3, 6\n"
      ],
      "metadata": {
        "id": "VFwIuuAl75OT"
      },
      "execution_count": null,
      "outputs": []
    },
    {
      "cell_type": "code",
      "source": [
        "alunos = ['Mariana', 'Luiz', 'Higor', 'Enzo', 'Valentina']\n",
        "print(alunos)\n",
        "\n",
        "alunos[3] = 'Ivan'\n",
        "\n",
        "\n",
        "alunos.append('aderbal')\n",
        "alunos.append(input('Digite o nome'))\n",
        "\n",
        "if 'Luiz' in alunos:\n",
        "  print('Tem luiz sim')\n",
        "else:\n",
        "  print('tem não')\n"
      ],
      "metadata": {
        "colab": {
          "base_uri": "https://localhost:8080/"
        },
        "id": "HaydR38Z-Bbj",
        "outputId": "fb228574-42f7-4474-fbb4-ec8b8bbb0d0b"
      },
      "execution_count": 6,
      "outputs": [
        {
          "output_type": "stream",
          "name": "stdout",
          "text": [
            "['Mariana', 'Luiz', 'Higor', 'Enzo', 'Valentina']\n",
            "Digite o nomenaldocanal\n",
            "Tem luiz sim\n"
          ]
        }
      ]
    }
  ]
}