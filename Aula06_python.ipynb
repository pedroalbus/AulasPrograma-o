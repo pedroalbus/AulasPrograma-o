{
  "nbformat": 4,
  "nbformat_minor": 0,
  "metadata": {
    "colab": {
      "provenance": [],
      "authorship_tag": "ABX9TyOawfO/9ff0MDdvLItbxose",
      "include_colab_link": true
    },
    "kernelspec": {
      "name": "python3",
      "display_name": "Python 3"
    },
    "language_info": {
      "name": "python"
    }
  },
  "cells": [
    {
      "cell_type": "markdown",
      "metadata": {
        "id": "view-in-github",
        "colab_type": "text"
      },
      "source": [
        "<a href=\"https://colab.research.google.com/github/pedroalbus/AulasPrograma-o/blob/main/Aula06_python.ipynb\" target=\"_parent\"><img src=\"https://colab.research.google.com/assets/colab-badge.svg\" alt=\"Open In Colab\"/></a>"
      ]
    },
    {
      "cell_type": "code",
      "execution_count": 2,
      "metadata": {
        "id": "tSm7P5K8r_kO",
        "colab": {
          "base_uri": "https://localhost:8080/"
        },
        "outputId": "a8987059-25f7-4129-ee5f-6214d48d0da5"
      },
      "outputs": [
        {
          "output_type": "execute_result",
          "data": {
            "text/plain": [
              "['ze', 'tiao', 'joquim', 'julia', 'Ana', 'Zabé', 'Maria']"
            ]
          },
          "metadata": {},
          "execution_count": 2
        }
      ],
      "source": [
        "nomes = ['ze', 'tiao', 'joquim']\n",
        "nomes.append('julia')\n",
        "#varios nomes\n",
        "outrosNomes = ['Ana', 'Zabé', 'Maria']\n",
        "nomes.extend(outrosNomes)\n",
        "nomes"
      ]
    },
    {
      "cell_type": "code",
      "source": [
        "numeros = [2, 4, 1, 6, 9, 12]\n",
        "numeros.remove(numeros[0])\n",
        "numeros.pop()\n",
        "numeros"
      ],
      "metadata": {
        "colab": {
          "base_uri": "https://localhost:8080/"
        },
        "id": "els5d98o8KCz",
        "outputId": "bdaa07f1-2fa6-40d5-c1ea-4fbe396bd372"
      },
      "execution_count": 7,
      "outputs": [
        {
          "output_type": "execute_result",
          "data": {
            "text/plain": [
              "[4, 1, 6, 9]"
            ]
          },
          "metadata": {},
          "execution_count": 7
        }
      ]
    },
    {
      "cell_type": "code",
      "source": [
        "notas = [2, 10, 9, 4, 7, 3, 8]\n",
        "nomes = ['Ademar', 'Maristeno', 'Asdrúbal', 'Leo']\n",
        "notas.sort()\n",
        "nomes.sort(reverse=True)\n",
        "nomes\n"
      ],
      "metadata": {
        "colab": {
          "base_uri": "https://localhost:8080/"
        },
        "id": "vSfX-hus_mlk",
        "outputId": "9e8c095e-f30c-4d9d-90e6-fd82b9f48ad9"
      },
      "execution_count": 9,
      "outputs": [
        {
          "output_type": "execute_result",
          "data": {
            "text/plain": [
              "['Maristeno', 'Leo', 'Asdrúbal', 'Ademar']"
            ]
          },
          "metadata": {},
          "execution_count": 9
        }
      ]
    },
    {
      "cell_type": "code",
      "source": [
        "numeros = [2, 4, 6, 3]\n",
        "nova_lista = list(map( lambda x : x*2, numeros))\n",
        "nova_lista"
      ],
      "metadata": {
        "colab": {
          "base_uri": "https://localhost:8080/"
        },
        "id": "g2IAcHCaCWzz",
        "outputId": "93cb41fe-ffc3-46c9-b6ef-fadbec2b16f4"
      },
      "execution_count": 10,
      "outputs": [
        {
          "output_type": "execute_result",
          "data": {
            "text/plain": [
              "[4, 8, 12, 6]"
            ]
          },
          "metadata": {},
          "execution_count": 10
        }
      ]
    },
    {
      "cell_type": "code",
      "source": [
        "numDivi = list(map(lambda x : round(x / 3), numeros))\n",
        "numDivi "
      ],
      "metadata": {
        "colab": {
          "base_uri": "https://localhost:8080/"
        },
        "id": "qQWMfaW_DO1P",
        "outputId": "b36de446-33f1-424e-9658-520140959a47"
      },
      "execution_count": 15,
      "outputs": [
        {
          "output_type": "execute_result",
          "data": {
            "text/plain": [
              "[1, 1, 2, 1]"
            ]
          },
          "metadata": {},
          "execution_count": 15
        }
      ]
    },
    {
      "cell_type": "code",
      "source": [
        "numSoma = list(map(lambda x : x + 2, numeros))\n",
        "numSoma"
      ],
      "metadata": {
        "colab": {
          "base_uri": "https://localhost:8080/"
        },
        "id": "D9WYMOZEEE-u",
        "outputId": "14ddc49d-e67e-4f0e-95b1-5660cf50f77e"
      },
      "execution_count": 14,
      "outputs": [
        {
          "output_type": "execute_result",
          "data": {
            "text/plain": [
              "[4, 6, 8, 5]"
            ]
          },
          "metadata": {},
          "execution_count": 14
        }
      ]
    },
    {
      "cell_type": "code",
      "source": [
        "nome = ['josé', 'joão', 'Sebastião', 'Angelica', 'Leonardo', 'Bárbara' ]\n",
        "\n",
        "new_list = list(filter(lambda x : len(x) > 5, nome ))\n",
        "new_list"
      ],
      "metadata": {
        "colab": {
          "base_uri": "https://localhost:8080/"
        },
        "id": "BU6pS9UUE_KX",
        "outputId": "6fb9b84e-3e9b-4d56-a576-491c77949114"
      },
      "execution_count": 19,
      "outputs": [
        {
          "output_type": "execute_result",
          "data": {
            "text/plain": [
              "['Sebastião', 'Angelica', 'Leonardo', 'Barbara']"
            ]
          },
          "metadata": {},
          "execution_count": 19
        }
      ]
    },
    {
      "cell_type": "code",
      "source": [
        "notas = [8, 4, 7, 6, 9, 10, 10000]\n",
        "num_list = list(filter( lambda x : x > 6, notas))\n",
        "num_list"
      ],
      "metadata": {
        "colab": {
          "base_uri": "https://localhost:8080/"
        },
        "id": "MUtt3AcQF9Yo",
        "outputId": "525b4087-521a-4a3a-ef1a-7c650ad75a0b"
      },
      "execution_count": 23,
      "outputs": [
        {
          "output_type": "execute_result",
          "data": {
            "text/plain": [
              "[8, 7, 9, 10, 10000]"
            ]
          },
          "metadata": {},
          "execution_count": 23
        }
      ]
    },
    {
      "cell_type": "code",
      "source": [
        "numerosx = [1, 2, 3, 4, 5, 6, 7, 8, 9, 10, 11, 12 ]\n",
        "num_quadrado = list(map( lambda x : x**2, numerosx))\n",
        "num_quadrado"
      ],
      "metadata": {
        "colab": {
          "base_uri": "https://localhost:8080/"
        },
        "id": "zaEGRxT2Icog",
        "outputId": "4ff462c9-8794-45ac-e8ca-e0f525437fb4"
      },
      "execution_count": 33,
      "outputs": [
        {
          "output_type": "execute_result",
          "data": {
            "text/plain": [
              "[1, 4, 9, 16, 25, 36, 49, 64, 81, 100, 121, 144]"
            ]
          },
          "metadata": {},
          "execution_count": 33
        }
      ]
    },
    {
      "cell_type": "code",
      "source": [
        "\n",
        "nome = ['aderbaldo', 'paulinho', 'mária']\n",
        "nome_list = list(map( lambda x : len(x), nome))\n",
        "nome_list"
      ],
      "metadata": {
        "colab": {
          "base_uri": "https://localhost:8080/"
        },
        "id": "spkiafQmLO2j",
        "outputId": "d6f9fca4-0664-4af5-8a0d-1d509eed09c2"
      },
      "execution_count": 37,
      "outputs": [
        {
          "output_type": "execute_result",
          "data": {
            "text/plain": [
              "[9, 8, 5]"
            ]
          },
          "metadata": {},
          "execution_count": 37
        }
      ]
    },
    {
      "cell_type": "code",
      "source": [
        "numerosy = [1, 2, 3, 4, 5, 6, 7, 8, 9, 10, 11, 12 ]\n",
        "num_pares = list(filter( lambda x : x % 2 == 0, numerosy))\n",
        "num_pares"
      ],
      "metadata": {
        "colab": {
          "base_uri": "https://localhost:8080/"
        },
        "id": "v2Rx19JzNgx7",
        "outputId": "78d1740f-1830-4c5a-8cab-2ef8ef4eed8e"
      },
      "execution_count": 39,
      "outputs": [
        {
          "output_type": "execute_result",
          "data": {
            "text/plain": [
              "[2, 4, 6, 8, 10, 12]"
            ]
          },
          "metadata": {},
          "execution_count": 39
        }
      ]
    },
    {
      "cell_type": "code",
      "source": [
        "nomesx = ['pedro', 'arara', 'aldebaran' ]\n",
        "nomesx_list = list(filter( lambda x : x[0] == 'a', nomesx ))\n",
        "nomesx_list"
      ],
      "metadata": {
        "colab": {
          "base_uri": "https://localhost:8080/"
        },
        "id": "CMswdkKHOD8Z",
        "outputId": "4d64e9ad-a74c-4705-95d6-68dde1039a58"
      },
      "execution_count": 42,
      "outputs": [
        {
          "output_type": "execute_result",
          "data": {
            "text/plain": [
              "['arara', 'aldebaran']"
            ]
          },
          "metadata": {},
          "execution_count": 42
        }
      ]
    },
    {
      "cell_type": "code",
      "source": [
        "notasalunos  = [8, 7, 6, 4, 5, 2, 10]\n",
        "nota_list = list(filter(lambda x : x > 7, notasalunos))\n",
        "nota_list"
      ],
      "metadata": {
        "colab": {
          "base_uri": "https://localhost:8080/"
        },
        "id": "AiE0yjXIO1OC",
        "outputId": "1a9830fa-8379-4444-c533-7967ce6caf49"
      },
      "execution_count": 45,
      "outputs": [
        {
          "output_type": "execute_result",
          "data": {
            "text/plain": [
              "[8, 10]"
            ]
          },
          "metadata": {},
          "execution_count": 45
        }
      ]
    }
  ]
}